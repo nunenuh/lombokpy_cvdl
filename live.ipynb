{
 "cells": [
  {
   "cell_type": "code",
   "execution_count": null,
   "metadata": {},
   "outputs": [],
   "source": [
    "%matplotlib inline\n",
    "import os\n",
    "import pathlib\n",
    "\n",
    "import matplotlib\n",
    "import matplotlib.pyplot as plt\n",
    "\n",
    "import numpy as np\n",
    "import tensorflow as tf\n",
    "import datetime\n",
    "\n",
    "import keras\n",
    "from keras.preprocessing.image import ImageDataGenerator, array_to_img, img_to_array, load_img\n",
    "from keras.models import Sequential, Model\n",
    "from keras.layers import Dense, Dropout, Flatten\n",
    "from keras.layers import Conv2D, MaxPooling2D, Activation, Reshape, GlobalAveragePooling2D\n",
    "from keras.models import load_model\n",
    "from keras.backend.tensorflow_backend import set_session\n",
    "from keras.callbacks import TensorBoard\n",
    "\n",
    "import skimage\n",
    "from skimage import io, color, transform"
   ]
  },
  {
   "cell_type": "code",
   "execution_count": null,
   "metadata": {},
   "outputs": [],
   "source": [
    "# def set_gpu_mem_alloc(mem_use):\n",
    "#     avail  = 4041\n",
    "#     percent = mem_use / avail\n",
    "#     config = tf.ConfigProto()\n",
    "#     config.gpu_options.per_process_gpu_memory_fraction = percent\n",
    "#     config.gpu_options.visible_device_list = \"0\"\n",
    "#     set_session(tf.Session(config=config))\n",
    "    \n",
    "# set_gpu_mem_alloc(2000)"
   ]
  },
  {
   "cell_type": "code",
   "execution_count": null,
   "metadata": {},
   "outputs": [],
   "source": [
    "batch_size = 4\n",
    "h,w,d = 224,224,3\n",
    "epochs = 500\n",
    "date_str = datetime.datetime.now().strftime(\"%d%m%y_%H%M\")"
   ]
  },
  {
   "cell_type": "code",
   "execution_count": null,
   "metadata": {},
   "outputs": [],
   "source": [
    "# this is the augmentation configuration we will use for training\n",
    "train_datagen = ImageDataGenerator(\n",
    "    rescale=1./255, rotation_range=13.75, \n",
    "    horizontal_flip=True, vertical_flip=True,\n",
    "    shear_range=0.2,\n",
    "    width_shift_range=0.1, height_shift_range=0.1,\n",
    "    zoom_range=0.5                            \n",
    ")\n",
    "\n",
    "test_datagen = ImageDataGenerator(rescale=1./255)\n",
    "\n",
    "train_generator = train_datagen.flow_from_directory(\n",
    "        'dataset/animal/train', \n",
    "        target_size=(h, w), \n",
    "        batch_size=batch_size,\n",
    "        class_mode='categorical') \n",
    "# this is a similar generator, for validation data\n",
    "validation_generator = test_datagen.flow_from_directory(\n",
    "        'dataset/animal/valid',\n",
    "        target_size=(h, w),\n",
    "        batch_size=batch_size,\n",
    "        class_mode='categorical')"
   ]
  },
  {
   "cell_type": "code",
   "execution_count": null,
   "metadata": {},
   "outputs": [],
   "source": [
    "x,y = train_generator.next()"
   ]
  },
  {
   "cell_type": "code",
   "execution_count": null,
   "metadata": {},
   "outputs": [],
   "source": [
    "num_class = len(train_generator.class_indices)\n",
    "train_step = len(train_generator.classes)\n",
    "valid_step = len(validation_generator.classes)\n",
    "\n",
    "print('NUM Classes => ', num_class)\n",
    "print('Train Step  => ',  train_step)\n",
    "print('Valid Step  => ',  valid_step)"
   ]
  },
  {
   "cell_type": "code",
   "execution_count": null,
   "metadata": {},
   "outputs": [],
   "source": [
    "ksize = (3,3)\n",
    "psize = (2,2)\n",
    "\n",
    "input_shape = (h,w,d)\n",
    "\n",
    "model = Sequential()\n",
    "model.add(Conv2D(32, kernel_size=ksize, activation='relu', input_shape=input_shape))\n",
    "model.add(MaxPooling2D(pool_size=psize))\n",
    "model.add(Flatten())\n",
    "model.add(Dense(128, activation='relu'))\n",
    "model.add(Dense(num_class, activation='softmax'))\n",
    "model.summary()"
   ]
  },
  {
   "cell_type": "code",
   "execution_count": null,
   "metadata": {},
   "outputs": [],
   "source": [
    "model.compile(loss='categorical_crossentropy', optimizer='adam', metrics=['acc','mse'])"
   ]
  },
  {
   "cell_type": "code",
   "execution_count": null,
   "metadata": {},
   "outputs": [],
   "source": [
    "# untuk liat log history\n",
    "tb1_path = 'log/'+date_str\n",
    "pathlib.Path(tb1_path).mkdir(parents=True, exist_ok=True) \n",
    "#training\n",
    "tensorboard = TensorBoard( log_dir=tb1_path, histogram_freq=0, \n",
    "                            write_graph=True, write_images=True)"
   ]
  },
  {
   "cell_type": "code",
   "execution_count": null,
   "metadata": {},
   "outputs": [],
   "source": [
    "model.fit_generator(\n",
    "    train_generator,\n",
    "    steps_per_epoch=train_step // batch_size,\n",
    "    epochs=epochs,\n",
    "    validation_data=validation_generator,\n",
    "    validation_steps=valid_step // batch_size,\n",
    "    callbacks=[tensorboard],\n",
    "    verbose=2\n",
    ")"
   ]
  },
  {
   "cell_type": "code",
   "execution_count": null,
   "metadata": {},
   "outputs": [],
   "source": [
    "model_path = './saved/svgg'+date_str+'_'+str(epochs)+'x.h5'\n",
    "model.save(model_path)"
   ]
  },
  {
   "cell_type": "code",
   "execution_count": null,
   "metadata": {},
   "outputs": [],
   "source": [
    "x, y = validation_generator.next()\n",
    "img = x[0] * 255\n",
    "img = img.astype(\"uint8\")\n",
    "plt.imshow(img, cmap = 'gray')\n",
    "\n",
    "for yy in y:\n",
    "    print(np.argmax(yy)+1)"
   ]
  },
  {
   "cell_type": "code",
   "execution_count": null,
   "metadata": {},
   "outputs": [],
   "source": [
    "pred = model.predict(x)\n",
    "for pr in pred:\n",
    "    print(np.argmax(pr)+1)"
   ]
  }
 ],
 "metadata": {
  "kernelspec": {
   "display_name": "Python [conda env:dlearn]",
   "language": "python",
   "name": "conda-env-dlearn-py"
  },
  "language_info": {
   "codemirror_mode": {
    "name": "ipython",
    "version": 3
   },
   "file_extension": ".py",
   "mimetype": "text/x-python",
   "name": "python",
   "nbconvert_exporter": "python",
   "pygments_lexer": "ipython3",
   "version": "3.5.4"
  }
 },
 "nbformat": 4,
 "nbformat_minor": 2
}
