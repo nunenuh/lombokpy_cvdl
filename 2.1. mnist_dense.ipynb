{
 "cells": [
  {
   "cell_type": "markdown",
   "metadata": {},
   "source": [
    "### MNIST Multilayer Perceptron\n",
    "![title](https://ml4a.github.io/images/figures/mnist-input.png)\n",
    "\n",
    "<video controls src=\"assets/Neural Network 3D Simulation.mp4\" />\n"
   ]
  },
  {
   "cell_type": "code",
   "execution_count": 51,
   "metadata": {},
   "outputs": [],
   "source": [
    "%matplotlib inline\n",
    "from keras.datasets import mnist\n",
    "import matplotlib.pyplot as plt\n",
    "import tensorflow as tf\n",
    "import numpy as np\n",
    "\n",
    "import keras\n",
    "from keras.datasets import mnist\n",
    "from keras.models import Sequential\n",
    "from keras.layers import Dense, Dropout\n",
    "from keras.optimizers import RMSprop\n",
    "\n",
    "from keras.backend.tensorflow_backend import set_session"
   ]
  },
  {
   "cell_type": "code",
   "execution_count": 32,
   "metadata": {},
   "outputs": [],
   "source": [
    "# Mendefinisikan Fungsi\n",
    "def set_gpu_mem_alloc(mem_use):\n",
    "    avail  = 4041\n",
    "    percent = mem_use / avail\n",
    "    config = tf.ConfigProto()\n",
    "    config.gpu_options.per_process_gpu_memory_fraction = percent\n",
    "    config.gpu_options.visible_device_list = \"0\"\n",
    "    set_session(tf.Session(config=config))\n",
    "\n",
    "set_gpu_mem_alloc(2000)"
   ]
  },
  {
   "cell_type": "code",
   "execution_count": 33,
   "metadata": {},
   "outputs": [],
   "source": [
    "# the data, split between train and test sets\n",
    "(x_train, y_train), (x_test, y_test) = mnist.load_data()"
   ]
  },
  {
   "cell_type": "code",
   "execution_count": 34,
   "metadata": {},
   "outputs": [
    {
     "data": {
      "text/plain": [
       "<matplotlib.image.AxesImage at 0x7f317c3b4710>"
      ]
     },
     "execution_count": 34,
     "metadata": {},
     "output_type": "execute_result"
    },
    {
     "data": {
      "image/png": "[encoded data removed]",
      "text/plain": [
       "<matplotlib.figure.Figure at 0x7f317c4b59b0>"
      ]
     },
     "metadata": {},
     "output_type": "display_data"
    }
   ],
   "source": [
    "# apa sih isinya\n",
    "f,ax = plt.subplots(2,2)\n",
    "ax[0][0].imshow(x_train[0], cmap='gray')\n",
    "ax[0][1].imshow(x_train[1], cmap='gray')\n",
    "ax[1][0].imshow(x_train[2], cmap='gray')\n",
    "ax[1][1].imshow(x_train[3], cmap='gray')"
   ]
  },
  {
   "cell_type": "code",
   "execution_count": 35,
   "metadata": {},
   "outputs": [
    {
     "name": "stdout",
     "output_type": "stream",
     "text": [
      "Gambar Kiri Atas   :  5\n",
      "Gambar Kanan Atas  :  0\n",
      "Gambar Kiri Bawah  :  4\n",
      "Gambar Kanan Bawah :  1\n"
     ]
    }
   ],
   "source": [
    "print('Gambar Kiri Atas   : ',y_train[0])\n",
    "print('Gambar Kanan Atas  : ',y_train[1])\n",
    "print('Gambar Kiri Bawah  : ',y_train[2])\n",
    "print('Gambar Kanan Bawah : ',y_train[3])"
   ]
  },
  {
   "cell_type": "code",
   "execution_count": 36,
   "metadata": {},
   "outputs": [
    {
     "name": "stdout",
     "output_type": "stream",
     "text": [
      "x_train shape :  (60000, 28, 28)\n",
      "x_test shape  :  (10000, 28, 28)\n"
     ]
    }
   ],
   "source": [
    "print(\"x_train shape : \", x_train.shape)\n",
    "print(\"x_test shape  : \", x_test.shape)"
   ]
  },
  {
   "cell_type": "code",
   "execution_count": 37,
   "metadata": {},
   "outputs": [],
   "source": [
    "x_train = x_train.reshape(60000, 784)\n",
    "x_test = x_test.reshape(10000, 784)\n",
    "x_train = x_train.astype('float32')\n",
    "x_test = x_test.astype('float32')\n",
    "x_train /= 255\n",
    "x_test /= 255"
   ]
  },
  {
   "cell_type": "code",
   "execution_count": 38,
   "metadata": {},
   "outputs": [
    {
     "name": "stdout",
     "output_type": "stream",
     "text": [
      "60000 train samples\n",
      "10000 test samples\n"
     ]
    }
   ],
   "source": [
    "print(x_train.shape[0] , 'train samples')\n",
    "print(x_test.shape[0]  , 'test samples')"
   ]
  },
  {
   "cell_type": "code",
   "execution_count": 39,
   "metadata": {},
   "outputs": [],
   "source": [
    "batch_size = 128\n",
    "num_classes = 10\n",
    "epochs = 10"
   ]
  },
  {
   "cell_type": "code",
   "execution_count": 40,
   "metadata": {},
   "outputs": [],
   "source": [
    "# convert class vectors to binary class matrices\n",
    "y_train = keras.utils.to_categorical(y_train, num_classes)\n",
    "y_test = keras.utils.to_categorical(y_test, num_classes)"
   ]
  },
  {
   "cell_type": "code",
   "execution_count": 41,
   "metadata": {},
   "outputs": [
    {
     "data": {
      "text/plain": [
       "array([[ 0.,  0.,  0., ...,  0.,  0.,  0.],\n",
       "       [ 1.,  0.,  0., ...,  0.,  0.,  0.],\n",
       "       [ 0.,  0.,  0., ...,  0.,  0.,  0.],\n",
       "       ..., \n",
       "       [ 0.,  0.,  0., ...,  0.,  0.,  0.],\n",
       "       [ 0.,  0.,  0., ...,  0.,  0.,  0.],\n",
       "       [ 0.,  0.,  0., ...,  0.,  1.,  0.]])"
      ]
     },
     "execution_count": 41,
     "metadata": {},
     "output_type": "execute_result"
    }
   ],
   "source": [
    "y_train"
   ]
  },
  {
   "cell_type": "code",
   "execution_count": 42,
   "metadata": {},
   "outputs": [
    {
     "name": "stdout",
     "output_type": "stream",
     "text": [
      "_________________________________________________________________\n",
      "Layer (type)                 Output Shape              Param #   \n",
      "=================================================================\n",
      "layer_input (Dense)          (None, 748)               587180    \n",
      "_________________________________________________________________\n",
      "layer_hidden_satu (Dense)    (None, 748)               560252    \n",
      "_________________________________________________________________\n",
      "layer_hidden_dua (Dense)     (None, 748)               560252    \n",
      "_________________________________________________________________\n",
      "layer_hidden_tiga (Dense)    (None, 748)               560252    \n",
      "_________________________________________________________________\n",
      "layer_output (Dense)         (None, 10)                7490      \n",
      "=================================================================\n",
      "Total params: 2,275,426\n",
      "Trainable params: 2,275,426\n",
      "Non-trainable params: 0\n",
      "_________________________________________________________________\n"
     ]
    }
   ],
   "source": [
    "model = Sequential()\n",
    "model.add(Dense(748, name='layer_input', activation='relu', input_shape=(784,)))\n",
    "model.add(Dense(748, name='layer_hidden_satu', activation='relu'))\n",
    "model.add(Dense(748, name='layer_hidden_dua', activation='relu'))\n",
    "model.add(Dense(748, name='layer_hidden_tiga', activation='relu'))\n",
    "model.add(Dense(num_classes, name='layer_output', activation='softmax'))\n",
    "model.summary()"
   ]
  },
  {
   "cell_type": "code",
   "execution_count": 43,
   "metadata": {},
   "outputs": [
    {
     "data": {
      "image/svg+xml": [
       "<svg height=\"410pt\" viewBox=\"0.00 0.00 188.00 410.00\" width=\"188pt\" xmlns=\"http://www.w3.org/2000/svg\" xmlns:xlink=\"http://www.w3.org/1999/xlink\">\n",
       "<g class=\"graph\" id=\"graph0\" transform=\"scale(1 1) rotate(0) translate(4 406)\">\n",
       "<title>G</title>\n",
       "<polygon fill=\"white\" points=\"-4,4 -4,-406 184,-406 184,4 -4,4\" stroke=\"none\"/>\n",
       "<!-- 139850515211264 -->\n",
       "<g class=\"node\" id=\"node1\"><title>139850515211264</title>\n",
       "<polygon fill=\"none\" points=\"0,-365.5 0,-401.5 180,-401.5 180,-365.5 0,-365.5\" stroke=\"black\"/>\n",
       "<text font-family=\"Times,serif\" font-size=\"14.00\" text-anchor=\"middle\" x=\"90\" y=\"-379.8\">layer_input_input: InputLayer</text>\n",
       "</g>\n",
       "<!-- 139850515439288 -->\n",
       "<g class=\"node\" id=\"node2\"><title>139850515439288</title>\n",
       "<polygon fill=\"none\" points=\"30.5,-292.5 30.5,-328.5 149.5,-328.5 149.5,-292.5 30.5,-292.5\" stroke=\"black\"/>\n",
       "<text font-family=\"Times,serif\" font-size=\"14.00\" text-anchor=\"middle\" x=\"90\" y=\"-306.8\">layer_input: Dense</text>\n",
       "</g>\n",
       "<!-- 139850515211264&#45;&gt;139850515439288 -->\n",
       "<g class=\"edge\" id=\"edge1\"><title>139850515211264-&gt;139850515439288</title>\n",
       "<path d=\"M90,-365.313C90,-357.289 90,-347.547 90,-338.569\" fill=\"none\" stroke=\"black\"/>\n",
       "<polygon fill=\"black\" points=\"93.5001,-338.529 90,-328.529 86.5001,-338.529 93.5001,-338.529\" stroke=\"black\"/>\n",
       "</g>\n",
       "<!-- 139850515447144 -->\n",
       "<g class=\"node\" id=\"node3\"><title>139850515447144</title>\n",
       "<polygon fill=\"none\" points=\"11.5,-219.5 11.5,-255.5 168.5,-255.5 168.5,-219.5 11.5,-219.5\" stroke=\"black\"/>\n",
       "<text font-family=\"Times,serif\" font-size=\"14.00\" text-anchor=\"middle\" x=\"90\" y=\"-233.8\">layer_hidden_satu: Dense</text>\n",
       "</g>\n",
       "<!-- 139850515439288&#45;&gt;139850515447144 -->\n",
       "<g class=\"edge\" id=\"edge2\"><title>139850515439288-&gt;139850515447144</title>\n",
       "<path d=\"M90,-292.313C90,-284.289 90,-274.547 90,-265.569\" fill=\"none\" stroke=\"black\"/>\n",
       "<polygon fill=\"black\" points=\"93.5001,-265.529 90,-255.529 86.5001,-265.529 93.5001,-265.529\" stroke=\"black\"/>\n",
       "</g>\n",
       "<!-- 139850514386280 -->\n",
       "<g class=\"node\" id=\"node4\"><title>139850514386280</title>\n",
       "<polygon fill=\"none\" points=\"12.5,-146.5 12.5,-182.5 167.5,-182.5 167.5,-146.5 12.5,-146.5\" stroke=\"black\"/>\n",
       "<text font-family=\"Times,serif\" font-size=\"14.00\" text-anchor=\"middle\" x=\"90\" y=\"-160.8\">layer_hidden_dua: Dense</text>\n",
       "</g>\n",
       "<!-- 139850515447144&#45;&gt;139850514386280 -->\n",
       "<g class=\"edge\" id=\"edge3\"><title>139850515447144-&gt;139850514386280</title>\n",
       "<path d=\"M90,-219.313C90,-211.289 90,-201.547 90,-192.569\" fill=\"none\" stroke=\"black\"/>\n",
       "<polygon fill=\"black\" points=\"93.5001,-192.529 90,-182.529 86.5001,-192.529 93.5001,-192.529\" stroke=\"black\"/>\n",
       "</g>\n",
       "<!-- 139850514015624 -->\n",
       "<g class=\"node\" id=\"node5\"><title>139850514015624</title>\n",
       "<polygon fill=\"none\" points=\"12.5,-73.5 12.5,-109.5 167.5,-109.5 167.5,-73.5 12.5,-73.5\" stroke=\"black\"/>\n",
       "<text font-family=\"Times,serif\" font-size=\"14.00\" text-anchor=\"middle\" x=\"90\" y=\"-87.8\">layer_hidden_tiga: Dense</text>\n",
       "</g>\n",
       "<!-- 139850514386280&#45;&gt;139850514015624 -->\n",
       "<g class=\"edge\" id=\"edge4\"><title>139850514386280-&gt;139850514015624</title>\n",
       "<path d=\"M90,-146.313C90,-138.289 90,-128.547 90,-119.569\" fill=\"none\" stroke=\"black\"/>\n",
       "<polygon fill=\"black\" points=\"93.5001,-119.529 90,-109.529 86.5001,-119.529 93.5001,-119.529\" stroke=\"black\"/>\n",
       "</g>\n",
       "<!-- 139850513642328 -->\n",
       "<g class=\"node\" id=\"node6\"><title>139850513642328</title>\n",
       "<polygon fill=\"none\" points=\"27,-0.5 27,-36.5 153,-36.5 153,-0.5 27,-0.5\" stroke=\"black\"/>\n",
       "<text font-family=\"Times,serif\" font-size=\"14.00\" text-anchor=\"middle\" x=\"90\" y=\"-14.8\">layer_output: Dense</text>\n",
       "</g>\n",
       "<!-- 139850514015624&#45;&gt;139850513642328 -->\n",
       "<g class=\"edge\" id=\"edge5\"><title>139850514015624-&gt;139850513642328</title>\n",
       "<path d=\"M90,-73.3129C90,-65.2895 90,-55.5475 90,-46.5691\" fill=\"none\" stroke=\"black\"/>\n",
       "<polygon fill=\"black\" points=\"93.5001,-46.5288 90,-36.5288 86.5001,-46.5289 93.5001,-46.5288\" stroke=\"black\"/>\n",
       "</g>\n",
       "</g>\n",
       "</svg>"
      ],
      "text/plain": [
       "<IPython.core.display.SVG object>"
      ]
     },
     "execution_count": 43,
     "metadata": {},
     "output_type": "execute_result"
    }
   ],
   "source": [
    "from IPython.display import SVG\n",
    "from keras.utils.vis_utils import model_to_dot\n",
    "SVG(model_to_dot(model).create(prog='dot', format='svg'))"
   ]
  },
  {
   "cell_type": "code",
   "execution_count": 44,
   "metadata": {},
   "outputs": [],
   "source": [
    "model.compile(loss='categorical_crossentropy',\n",
    "              optimizer='adam',\n",
    "              metrics=['accuracy'])"
   ]
  },
  {
   "cell_type": "code",
   "execution_count": 45,
   "metadata": {},
   "outputs": [
    {
     "name": "stdout",
     "output_type": "stream",
     "text": [
      "Train on 60000 samples, validate on 10000 samples\n",
      "Epoch 1/10\n",
      "60000/60000 [==============================] - 5s 88us/step - loss: 0.2184 - acc: 0.9327 - val_loss: 0.1115 - val_acc: 0.9655\n",
      "Epoch 2/10\n",
      "60000/60000 [==============================] - 5s 82us/step - loss: 0.0894 - acc: 0.9728 - val_loss: 0.0878 - val_acc: 0.9732\n",
      "Epoch 3/10\n",
      "60000/60000 [==============================] - 5s 82us/step - loss: 0.0609 - acc: 0.9813 - val_loss: 0.0785 - val_acc: 0.9763\n",
      "Epoch 4/10\n",
      "60000/60000 [==============================] - 5s 79us/step - loss: 0.0465 - acc: 0.9857 - val_loss: 0.0727 - val_acc: 0.9802\n",
      "Epoch 5/10\n",
      "60000/60000 [==============================] - 5s 79us/step - loss: 0.0399 - acc: 0.9875 - val_loss: 0.0914 - val_acc: 0.9760\n",
      "Epoch 6/10\n",
      "60000/60000 [==============================] - 5s 80us/step - loss: 0.0349 - acc: 0.9891 - val_loss: 0.0972 - val_acc: 0.9756\n",
      "Epoch 7/10\n",
      "60000/60000 [==============================] - 5s 83us/step - loss: 0.0275 - acc: 0.9915 - val_loss: 0.0695 - val_acc: 0.9831\n",
      "Epoch 8/10\n",
      "60000/60000 [==============================] - 5s 90us/step - loss: 0.0249 - acc: 0.9923 - val_loss: 0.0886 - val_acc: 0.9784\n",
      "Epoch 9/10\n",
      "60000/60000 [==============================] - 5s 89us/step - loss: 0.0249 - acc: 0.9925 - val_loss: 0.0908 - val_acc: 0.9781\n",
      "Epoch 10/10\n",
      "60000/60000 [==============================] - 5s 82us/step - loss: 0.0192 - acc: 0.9943 - val_loss: 0.1053 - val_acc: 0.9768\n"
     ]
    }
   ],
   "source": [
    "# Training neural network nya\n",
    "history = model.fit(x_train, y_train,\n",
    "                    batch_size=batch_size,\n",
    "                    epochs=epochs,\n",
    "                    verbose=1,\n",
    "                    validation_data=(x_test, y_test))"
   ]
  },
  {
   "cell_type": "code",
   "execution_count": 46,
   "metadata": {},
   "outputs": [
    {
     "name": "stdout",
     "output_type": "stream",
     "text": [
      "Test loss: 0.10525332513\n",
      "Test accuracy: 0.9768\n"
     ]
    }
   ],
   "source": [
    "score = model.evaluate(x_test, y_test, verbose=0)\n",
    "print('Test loss:', score[0])\n",
    "print('Test accuracy:', score[1])"
   ]
  },
  {
   "cell_type": "code",
   "execution_count": 72,
   "metadata": {},
   "outputs": [],
   "source": [
    "model.save('mnist_dense.h5')"
   ]
  },
  {
   "cell_type": "code",
   "execution_count": 73,
   "metadata": {},
   "outputs": [],
   "source": [
    "(train_x, train_y), (test_x, test_y) = mnist.load_data()"
   ]
  },
  {
   "cell_type": "code",
   "execution_count": 74,
   "metadata": {},
   "outputs": [],
   "source": [
    "predict = model.predict(x_test, batch_size=128)"
   ]
  },
  {
   "cell_type": "code",
   "execution_count": 75,
   "metadata": {},
   "outputs": [
    {
     "name": "stdout",
     "output_type": "stream",
     "text": [
      "Prediction :  0\n"
     ]
    },
    {
     "data": {
      "text/plain": [
       "<matplotlib.image.AxesImage at 0x7f31b08ceac8>"
      ]
     },
     "execution_count": 75,
     "metadata": {},
     "output_type": "execute_result"
    },
    {
     "data": {
      "image/png": "[encoded data removed]",
      "text/plain": [
       "<matplotlib.figure.Figure at 0x7f31b08e3550>"
      ]
     },
     "metadata": {},
     "output_type": "display_data"
    }
   ],
   "source": [
    "idx = 10\n",
    "print('Prediction : ', np.argmax(predict[idx]))\n",
    "plt.imshow(test_x[idx], cmap='gray')"
   ]
  }
 ],
 "metadata": {
  "kernelspec": {
   "display_name": "Python [conda env:dlearn]",
   "language": "python",
   "name": "conda-env-dlearn-py"
  },
  "language_info": {
   "codemirror_mode": {
    "name": "ipython",
    "version": 3
   },
   "file_extension": ".py",
   "mimetype": "text/x-python",
   "name": "python",
   "nbconvert_exporter": "python",
   "pygments_lexer": "ipython3",
   "version": "3.5.4"
  }
 },
 "nbformat": 4,
 "nbformat_minor": 2
}
