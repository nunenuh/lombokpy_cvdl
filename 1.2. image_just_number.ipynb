{
 "cells": [
  {
   "cell_type": "markdown",
   "metadata": {},
   "source": [
    "# Introduction To Computer Vision with Deep Learning"
   ]
  },
  {
   "cell_type": "markdown",
   "metadata": {},
   "source": [
    "### Image is Just a Number\n",
    "Gambar di komputer hanyalah angka, lalu kenapa kita melihatnya berbeda? <br/>\n",
    "Angka tersebut di olah lagi untuk di tampilkan ke lcd melalui graphic card ke LCD/LED monitor sehingga terlihat sebagai gambar yang manusia mengerti. Tapi bagi komputer semua itu hanya angka.\n",
    "\n",
    "#### Mari kita buktikan!"
   ]
  },
  {
   "cell_type": "code",
   "execution_count": 3,
   "metadata": {},
   "outputs": [],
   "source": [
    "# ini biar semua langsung di tampilin di browser\n",
    "%matplotlib inline \n",
    "\n",
    "# panggil tukang visualisasi\n",
    "import matplotlib\n",
    "import matplotlib.pyplot as plt\n",
    "\n",
    "# panggil tukang hitung\n",
    "import numpy as np\n",
    "\n",
    "# panggil tukang olah gambar\n",
    "from skimage import io, color, feature, transform"
   ]
  },
  {
   "cell_type": "code",
   "execution_count": 4,
   "metadata": {},
   "outputs": [
    {
     "data": {
      "text/plain": [
       "<matplotlib.image.AxesImage at 0x7f17202ce390>"
      ]
     },
     "execution_count": 4,
     "metadata": {},
     "output_type": "execute_result"
    },
    {
     "data": {
      "image/png": "[encoded data removed]",
      "text/plain": [
       "<matplotlib.figure.Figure at 0x7f1770a725c0>"
      ]
     },
     "metadata": {},
     "output_type": "display_data"
    }
   ],
   "source": [
    "img = io.imread('assets/pin_small.png')\n",
    "plt.imshow(img, cmap='gray')"
   ]
  },
  {
   "cell_type": "code",
   "execution_count": 5,
   "metadata": {},
   "outputs": [
    {
     "data": {
      "text/plain": [
       "array([[[  0,   0,   0],\n",
       "        [  5,   5,   5],\n",
       "        [110, 107, 104],\n",
       "        ...,\n",
       "        [110, 107, 104],\n",
       "        [  5,   5,   5],\n",
       "        [  0,   0,   0]],\n",
       "\n",
       "       [[  5,   5,   5],\n",
       "        [170, 166, 160],\n",
       "        [227, 221, 213],\n",
       "        ...,\n",
       "        [227, 221, 213],\n",
       "        [170, 166, 160],\n",
       "        [  5,   5,   5]],\n",
       "\n",
       "       [[110, 107, 104],\n",
       "        [227, 221, 213],\n",
       "        [227, 221, 213],\n",
       "        ...,\n",
       "        [227, 221, 213],\n",
       "        [227, 221, 213],\n",
       "        [110, 107, 104]],\n",
       "\n",
       "       ...,\n",
       "\n",
       "       [[110, 107, 104],\n",
       "        [227, 221, 213],\n",
       "        [227, 221, 213],\n",
       "        ...,\n",
       "        [227, 221, 213],\n",
       "        [227, 221, 213],\n",
       "        [110, 107, 104]],\n",
       "\n",
       "       [[  5,   5,   5],\n",
       "        [170, 166, 160],\n",
       "        [227, 221, 213],\n",
       "        ...,\n",
       "        [227, 221, 213],\n",
       "        [170, 166, 160],\n",
       "        [  5,   5,   5]],\n",
       "\n",
       "       [[  0,   0,   0],\n",
       "        [  5,   5,   5],\n",
       "        [110, 107, 104],\n",
       "        ...,\n",
       "        [110, 107, 104],\n",
       "        [  5,   5,   5],\n",
       "        [  0,   0,   0]]], dtype=uint8)"
      ]
     },
     "execution_count": 5,
     "metadata": {},
     "output_type": "execute_result"
    }
   ],
   "source": [
    "img"
   ]
  },
  {
   "cell_type": "code",
   "execution_count": 6,
   "metadata": {},
   "outputs": [
    {
     "data": {
      "text/plain": [
       "numpy.ndarray"
      ]
     },
     "execution_count": 6,
     "metadata": {},
     "output_type": "execute_result"
    }
   ],
   "source": [
    "type(img)"
   ]
  },
  {
   "cell_type": "markdown",
   "metadata": {},
   "source": [
    "#### Okey, if its a number then we can create it, isn it?\n",
    "Lets create one!"
   ]
  },
  {
   "cell_type": "code",
   "execution_count": 7,
   "metadata": {},
   "outputs": [
    {
     "data": {
      "text/plain": [
       "<matplotlib.image.AxesImage at 0x7f1720241e10>"
      ]
     },
     "execution_count": 7,
     "metadata": {},
     "output_type": "execute_result"
    },
    {
     "data": {
      "image/png": "[encoded data removed]",
      "text/plain": [
       "<matplotlib.figure.Figure at 0x7f1720323a20>"
      ]
     },
     "metadata": {},
     "output_type": "display_data"
    }
   ],
   "source": [
    "img2 = [\n",
    "    [1,1,1],\n",
    "    [1,0,1],\n",
    "    [1,1,1]\n",
    "]\n",
    "\n",
    "img2 = np.array(img2)\n",
    "plt.imshow(img2, cmap='gray')"
   ]
  },
  {
   "cell_type": "code",
   "execution_count": 8,
   "metadata": {},
   "outputs": [
    {
     "data": {
      "text/plain": [
       "<matplotlib.image.AxesImage at 0x7f17202037b8>"
      ]
     },
     "execution_count": 8,
     "metadata": {},
     "output_type": "execute_result"
    },
    {
     "data": {
      "image/png": "[encoded data removed]",
      "text/plain": [
       "<matplotlib.figure.Figure at 0x7f17202aae10>"
      ]
     },
     "metadata": {},
     "output_type": "display_data"
    }
   ],
   "source": [
    "img3 = [\n",
    "    [1,0,1,0],\n",
    "    [1,0,0,1],\n",
    "    [1,0,0,1],\n",
    "    [0,1,1,1]\n",
    "]\n",
    "\n",
    "plt.imshow(img3, cmap='gray')"
   ]
  },
  {
   "cell_type": "markdown",
   "metadata": {},
   "source": [
    "#### Bikin angka random untuk jadi gambar Yuk"
   ]
  },
  {
   "cell_type": "code",
   "execution_count": 12,
   "metadata": {},
   "outputs": [],
   "source": [
    "img4 = np.random.randint(255, size=(10, 10))"
   ]
  },
  {
   "cell_type": "code",
   "execution_count": 13,
   "metadata": {},
   "outputs": [
    {
     "data": {
      "text/plain": [
       "array([[113,  61, 196, 225,  44,  56, 195, 209,  27, 192],\n",
       "       [187, 254, 112,  86, 143,   7, 129,  66,  76, 114],\n",
       "       [117, 132, 233,  30, 233, 146, 108,  75, 167, 174],\n",
       "       [ 59,  66, 114,  40, 170,  32, 111, 116, 226, 151],\n",
       "       [150, 200, 185, 100, 152, 190,  79, 168, 196,  36],\n",
       "       [127, 105, 148, 250,  59,   7,  63, 155, 199, 227],\n",
       "       [142, 110,  71, 160,  17, 123,  98, 146, 135,  37],\n",
       "       [182, 201, 201, 157,  62, 198,  14, 144, 231, 141],\n",
       "       [ 90, 161, 200, 254,  70, 200, 226, 147, 125, 245],\n",
       "       [196, 204, 152, 250,  64, 135,  26,  35, 113, 246]])"
      ]
     },
     "execution_count": 13,
     "metadata": {},
     "output_type": "execute_result"
    }
   ],
   "source": [
    "img4"
   ]
  },
  {
   "cell_type": "code",
   "execution_count": 14,
   "metadata": {},
   "outputs": [
    {
     "data": {
      "text/plain": [
       "(10, 10)"
      ]
     },
     "execution_count": 14,
     "metadata": {},
     "output_type": "execute_result"
    }
   ],
   "source": [
    "img4.shape"
   ]
  },
  {
   "cell_type": "code",
   "execution_count": 15,
   "metadata": {},
   "outputs": [
    {
     "data": {
      "text/plain": [
       "<matplotlib.image.AxesImage at 0x7f5bdb26a5f8>"
      ]
     },
     "execution_count": 15,
     "metadata": {},
     "output_type": "execute_result"
    },
    {
     "data": {
      "image/png": "[encoded data removed]",
      "text/plain": [
       "<matplotlib.figure.Figure at 0x7f5bdb2a0080>"
      ]
     },
     "metadata": {},
     "output_type": "display_data"
    }
   ],
   "source": [
    "# gmana rupanya gambar ini?\n",
    "plt.imshow(img4, cmap='gray')"
   ]
  },
  {
   "cell_type": "code",
   "execution_count": 18,
   "metadata": {},
   "outputs": [
    {
     "data": {
      "text/plain": [
       "<matplotlib.image.AxesImage at 0x7f5bdb2120f0>"
      ]
     },
     "execution_count": 18,
     "metadata": {},
     "output_type": "execute_result"
    },
    {
     "data": {
      "image/png": "[encoded data removed]",
      "text/plain": [
       "<matplotlib.figure.Figure at 0x7f5bdb234ba8>"
      ]
     },
     "metadata": {},
     "output_type": "display_data"
    }
   ],
   "source": [
    "# maen - maen dah sama operasi matrix, > < =, np.mean, np.average, np.max, np.min\n",
    "# show1 = img4 == np.min(img4)\n",
    "# show2 = img4 == np.max(img4)\n",
    "\n",
    "show = img4 > np.mean(img4)\n",
    "plt.imshow(show, cmap='gray')"
   ]
  },
  {
   "cell_type": "code",
   "execution_count": 21,
   "metadata": {},
   "outputs": [
    {
     "data": {
      "text/plain": [
       "<matplotlib.image.AxesImage at 0x7f5bdb141588>"
      ]
     },
     "execution_count": 21,
     "metadata": {},
     "output_type": "execute_result"
    },
    {
     "data": {
      "image/png": "[encoded data removed]",
      "text/plain": [
       "<matplotlib.figure.Figure at 0x7f5bdb27cb70>"
      ]
     },
     "metadata": {},
     "output_type": "display_data"
    }
   ],
   "source": [
    "# kalau gambar berwarna gmana (RGB)?\n",
    "warna = np.array([\n",
    "    [[255,255,0],[0,255,0],[0,0,255],[255,0,0],[0,255,0]],\n",
    "    [[0,255,0],[0,0,255],[255,0,0],[0,255,0],[0,0,255]],\n",
    "    [[0,0,255],[255,0,0],[0,255,0],[0,0,255],[255,0,0]],\n",
    "    [[0,255,0],[0,0,255],[255,0,0],[0,255,0],[0,0,255]],\n",
    "    [[0,0,255],[255,0,0],[0,255,0],[0,0,255],[255,0,0]],\n",
    "]).astype('uint8')\n",
    "\n",
    "plt.imshow(warna, cmap='gray')"
   ]
  },
  {
   "cell_type": "code",
   "execution_count": 49,
   "metadata": {},
   "outputs": [
    {
     "data": {
      "text/plain": [
       "(5, 5, 3)"
      ]
     },
     "execution_count": 49,
     "metadata": {},
     "output_type": "execute_result"
    }
   ],
   "source": [
    "warna.shape"
   ]
  },
  {
   "cell_type": "markdown",
   "metadata": {},
   "source": [
    "### Cobain Gambar Beneran Hayo.."
   ]
  },
  {
   "cell_type": "code",
   "execution_count": 22,
   "metadata": {},
   "outputs": [
    {
     "data": {
      "text/plain": [
       "<matplotlib.image.AxesImage at 0x7f5bdb0f6f28>"
      ]
     },
     "execution_count": 22,
     "metadata": {},
     "output_type": "execute_result"
    },
    {
     "data": {
      "image/png": "[encoded data removed]",
      "text/plain": [
       "<matplotlib.figure.Figure at 0x7f5bdb21d7b8>"
      ]
     },
     "metadata": {},
     "output_type": "display_data"
    }
   ],
   "source": [
    "google = io.imread('data/google-plus-logo.jpg')\n",
    "plt.imshow(google)"
   ]
  },
  {
   "cell_type": "code",
   "execution_count": 24,
   "metadata": {},
   "outputs": [
    {
     "data": {
      "text/plain": [
       "(14, 18, 3)"
      ]
     },
     "execution_count": 24,
     "metadata": {},
     "output_type": "execute_result"
    }
   ],
   "source": [
    "google = transform.rescale(google, 0.01, mode='reflect')\n",
    "google.shape"
   ]
  },
  {
   "cell_type": "code",
   "execution_count": 25,
   "metadata": {},
   "outputs": [
    {
     "data": {
      "text/plain": [
       "<matplotlib.image.AxesImage at 0x7f5bdb079a20>"
      ]
     },
     "execution_count": 25,
     "metadata": {},
     "output_type": "execute_result"
    },
    {
     "data": {
      "image/png": "[encoded data removed]",
      "text/plain": [
       "<matplotlib.figure.Figure at 0x7f5bdb1a1e48>"
      ]
     },
     "metadata": {},
     "output_type": "display_data"
    }
   ],
   "source": [
    "plt.imshow(google)"
   ]
  },
  {
   "cell_type": "code",
   "execution_count": 29,
   "metadata": {},
   "outputs": [
    {
     "data": {
      "text/plain": [
       "<matplotlib.image.AxesImage at 0x7f5bdafda048>"
      ]
     },
     "execution_count": 29,
     "metadata": {},
     "output_type": "execute_result"
    },
    {
     "data": {
      "image/png": "[encoded data removed]",
      "text/plain": [
       "<matplotlib.figure.Figure at 0x7f5bdb007cc0>"
      ]
     },
     "metadata": {},
     "output_type": "display_data"
    }
   ],
   "source": [
    "# zoom in ke huruf G gmana?\n",
    "zoom = google[4:9,10:15]\n",
    "plt.imshow(zoom)"
   ]
  },
  {
   "cell_type": "code",
   "execution_count": 67,
   "metadata": {},
   "outputs": [
    {
     "data": {
      "text/plain": [
       "(8, 8, 3)"
      ]
     },
     "execution_count": 67,
     "metadata": {},
     "output_type": "execute_result"
    }
   ],
   "source": [
    "zoom.shape"
   ]
  },
  {
   "cell_type": "code",
   "execution_count": 30,
   "metadata": {},
   "outputs": [
    {
     "data": {
      "text/plain": [
       "<matplotlib.image.AxesImage at 0x7f5bdaf8bc88>"
      ]
     },
     "execution_count": 30,
     "metadata": {},
     "output_type": "execute_result"
    },
    {
     "data": {
      "image/png": "[encoded data removed]",
      "text/plain": [
       "<matplotlib.figure.Figure at 0x7f5bdafc8668>"
      ]
     },
     "metadata": {},
     "output_type": "display_data"
    }
   ],
   "source": [
    "# ubah jadi grayscale donk\n",
    "zoom_gray = color.rgb2gray(zoom)\n",
    "plt.imshow(zoom_gray, cmap='gray')"
   ]
  },
  {
   "cell_type": "code",
   "execution_count": 31,
   "metadata": {},
   "outputs": [
    {
     "name": "stdout",
     "output_type": "stream",
     "text": [
      "[[ 10.  10.  10.  10.  10.]\n",
      " [ 10.  10.   9.  10.  10.]\n",
      " [ 10.   9.   9.   9.  10.]\n",
      " [ 10.  10.   9.  10.  10.]\n",
      " [ 10.  10.  10.  10.  10.]]\n"
     ]
    }
   ],
   "source": [
    "zoom_gray\n",
    "r = np.round(zoom_gray)\n",
    "print(10-r)"
   ]
  },
  {
   "cell_type": "code",
   "execution_count": 32,
   "metadata": {},
   "outputs": [
    {
     "data": {
      "text/plain": [
       "<matplotlib.image.AxesImage at 0x7f5bdaf48908>"
      ]
     },
     "execution_count": 32,
     "metadata": {},
     "output_type": "execute_result"
    },
    {
     "data": {
      "image/png": "[encoded data removed]",
      "text/plain": [
       "<matplotlib.figure.Figure at 0x7f5bdaf78c18>"
      ]
     },
     "metadata": {},
     "output_type": "display_data"
    }
   ],
   "source": [
    "plt.imshow(10-r, cmap='gray')"
   ]
  },
  {
   "cell_type": "code",
   "execution_count": null,
   "metadata": {},
   "outputs": [],
   "source": []
  }
 ],
 "metadata": {
  "kernelspec": {
   "display_name": "Python [conda env:dlearn]",
   "language": "python",
   "name": "conda-env-dlearn-py"
  },
  "language_info": {
   "codemirror_mode": {
    "name": "ipython",
    "version": 3
   },
   "file_extension": ".py",
   "mimetype": "text/x-python",
   "name": "python",
   "nbconvert_exporter": "python",
   "pygments_lexer": "ipython3",
   "version": "3.5.4"
  }
 },
 "nbformat": 4,
 "nbformat_minor": 2
}
