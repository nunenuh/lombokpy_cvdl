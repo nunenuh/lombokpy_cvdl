{
 "cells": [
  {
   "cell_type": "markdown",
   "metadata": {},
   "source": [
    "# Basic Python"
   ]
  },
  {
   "cell_type": "markdown",
   "metadata": {},
   "source": [
    "## 1.1. Variable dan Tipe Data"
   ]
  },
  {
   "cell_type": "code",
   "execution_count": 4,
   "metadata": {},
   "outputs": [
    {
     "name": "stdout",
     "output_type": "stream",
     "text": [
      "Hai I'm String\n",
      "Type:  <class 'str'>\n"
     ]
    }
   ],
   "source": [
    "strz = \"Hai I'm String\"\n",
    "print(strz)\n",
    "print('Type: ',type(strz))"
   ]
  },
  {
   "cell_type": "code",
   "execution_count": 5,
   "metadata": {},
   "outputs": [
    {
     "name": "stdout",
     "output_type": "stream",
     "text": [
      "10\n",
      "Type:  <class 'int'>\n"
     ]
    }
   ],
   "source": [
    "num = 10\n",
    "print(num)\n",
    "print('Type: ',type(num))"
   ]
  },
  {
   "cell_type": "code",
   "execution_count": 7,
   "metadata": {},
   "outputs": [
    {
     "name": "stdout",
     "output_type": "stream",
     "text": [
      "16.18\n",
      "Type:  <class 'float'>\n"
     ]
    }
   ],
   "source": [
    "dnum = 16.18\n",
    "print(dnum)\n",
    "print('Type: ',type(dnum))"
   ]
  },
  {
   "cell_type": "code",
   "execution_count": 9,
   "metadata": {},
   "outputs": [
    {
     "name": "stdout",
     "output_type": "stream",
     "text": [
      "[10, 5, 4, 2, 1]\n",
      "Type:  <class 'list'>\n"
     ]
    }
   ],
   "source": [
    "alist = [10,5,4,2,1]\n",
    "print(alist)\n",
    "print('Type: ',type(alist))"
   ]
  },
  {
   "cell_type": "code",
   "execution_count": 10,
   "metadata": {},
   "outputs": [
    {
     "name": "stdout",
     "output_type": "stream",
     "text": [
      "(1, 2, 4, 5, 6, 7)\n",
      "Type:  <class 'tuple'>\n"
     ]
    }
   ],
   "source": [
    "atup = (1,2,4,5,6,7)\n",
    "print(atup)\n",
    "print('Type: ',type(atup))"
   ]
  },
  {
   "cell_type": "code",
   "execution_count": 12,
   "metadata": {},
   "outputs": [
    {
     "name": "stdout",
     "output_type": "stream",
     "text": [
      "{'alamat': 'Mataram', 'nama': 'Lalu Erfandi Maula Yusnu'}\n",
      "Type:  <class 'dict'>\n"
     ]
    }
   ],
   "source": [
    "adict = { 'nama': 'Lalu Erfandi Maula Yusnu', 'alamat':'Mataram' }\n",
    "print(adict)\n",
    "print('Type: ',type(adict))"
   ]
  },
  {
   "cell_type": "markdown",
   "metadata": {},
   "source": [
    "## 1.2. Operator"
   ]
  },
  {
   "cell_type": "code",
   "execution_count": 17,
   "metadata": {},
   "outputs": [
    {
     "name": "stdout",
     "output_type": "stream",
     "text": [
      "Kali    : 12816\n",
      "Bagi    : 1.6179775280898876\n",
      "Tambah  : 233\n",
      "Kurang  : 55\n",
      "Pangkat : 20736\n"
     ]
    }
   ],
   "source": [
    "#Operator Aritmatika\n",
    "a = 144\n",
    "b = 89\n",
    "\n",
    "kali = a * b\n",
    "bagi = a / b\n",
    "tambah = a + b\n",
    "kurang = a - b\n",
    "pangkat = a ** 2\n",
    "\n",
    "print(\"Kali    : \"+str(kali))\n",
    "print(\"Bagi    : \"+str(bagi))\n",
    "print(\"Tambah  : \"+str(tambah))\n",
    "print(\"Kurang  : \"+str(kurang))\n",
    "print(\"Pangkat : \"+str(pangkat))"
   ]
  },
  {
   "cell_type": "code",
   "execution_count": 22,
   "metadata": {},
   "outputs": [
    {
     "name": "stdout",
     "output_type": "stream",
     "text": [
      "Dan  :  False\n",
      "Atau :  True\n"
     ]
    }
   ],
   "source": [
    "# Operator Logika Part 1\n",
    "a = True\n",
    "b = False\n",
    "\n",
    "dan = (a and b)\n",
    "atau = (a or b)\n",
    "\n",
    "print(\"Dan  : \", dan)\n",
    "print(\"Atau : \", atau)"
   ]
  },
  {
   "cell_type": "code",
   "execution_count": 23,
   "metadata": {},
   "outputs": [
    {
     "name": "stdout",
     "output_type": "stream",
     "text": [
      "Sama        :  False\n",
      "Tidak Sama  :  True\n",
      "Lebih Dari  :  True\n",
      "Kurang Dari :  False\n"
     ]
    }
   ],
   "source": [
    "# Operator Logika Part 2\n",
    "c = 10\n",
    "d = 5\n",
    "\n",
    "sama = (c == d)\n",
    "tidak_sama = (c != d)\n",
    "lebih_dari = (c > d)\n",
    "kurang_dari = (c < d)\n",
    "\n",
    "print(\"Sama        : \", sama)\n",
    "print(\"Tidak Sama  : \", tidak_sama)\n",
    "print(\"Lebih Dari  : \", lebih_dari)\n",
    "print(\"Kurang Dari : \", kurang_dari)"
   ]
  },
  {
   "cell_type": "markdown",
   "metadata": {},
   "source": [
    "## 2.1 Struktur Kontrol Kondisi"
   ]
  },
  {
   "cell_type": "code",
   "execution_count": 25,
   "metadata": {},
   "outputs": [
    {
     "name": "stdout",
     "output_type": "stream",
     "text": [
      "Nilai A Lebih Besar Dari 5\n"
     ]
    }
   ],
   "source": [
    "# Kondisi Part 1\n",
    "a = 10\n",
    "\n",
    "if (a>5):\n",
    "    print(\"Nilai A Lebih Besar Dari 5\")\n",
    "else:\n",
    "    print(\"Nilai A Kurang Dari 5\")"
   ]
  },
  {
   "cell_type": "code",
   "execution_count": 32,
   "metadata": {},
   "outputs": [
    {
     "name": "stdout",
     "output_type": "stream",
     "text": [
      "Nilai A adalah 4\n"
     ]
    }
   ],
   "source": [
    "# Kondisi Part 2\n",
    "a = 4\n",
    "\n",
    "if (a==5):\n",
    "    print(\"Nilai A adalah 5\")\n",
    "elif (a==4):\n",
    "    print(\"Nilai A adalah 4\")\n",
    "elif (a==3):\n",
    "    print(\"Nilai A adalah 3\")\n",
    "else:\n",
    "    print(\"Nilai A tidak terdaftar\")"
   ]
  },
  {
   "cell_type": "markdown",
   "metadata": {},
   "source": [
    "## 2.2 Struktur Kontrol Perulangan"
   ]
  },
  {
   "cell_type": "code",
   "execution_count": 33,
   "metadata": {},
   "outputs": [
    {
     "name": "stdout",
     "output_type": "stream",
     "text": [
      "Perulangan Ke-1\n",
      "Perulangan Ke-2\n",
      "Perulangan Ke-3\n",
      "Perulangan Ke-4\n",
      "Perulangan Ke-5\n",
      "Perulangan Ke-6\n",
      "Perulangan Ke-7\n",
      "Perulangan Ke-8\n",
      "Perulangan Ke-9\n"
     ]
    }
   ],
   "source": [
    "for i in range(1,10):\n",
    "    print(\"Perulangan For Ke-\"+str(i))"
   ]
  },
  {
   "cell_type": "code",
   "execution_count": 34,
   "metadata": {},
   "outputs": [
    {
     "name": "stdout",
     "output_type": "stream",
     "text": [
      "Perulangan For Ke-1\n",
      "Perulangan For Ke-2\n",
      "Perulangan For Ke-3\n",
      "Perulangan For Ke-4\n",
      "Perulangan For Ke-5\n",
      "Perulangan For Ke-6\n",
      "Perulangan For Ke-7\n",
      "Perulangan For Ke-8\n",
      "Perulangan For Ke-9\n"
     ]
    }
   ],
   "source": [
    "c = 1\n",
    "while (c<10):\n",
    "    print(\"Perulangan For Ke-\"+str(c))\n",
    "    c = c + 1"
   ]
  },
  {
   "cell_type": "markdown",
   "metadata": {},
   "source": [
    "## 3. Fungsi"
   ]
  },
  {
   "cell_type": "code",
   "execution_count": 35,
   "metadata": {},
   "outputs": [
    {
     "name": "stdout",
     "output_type": "stream",
     "text": [
      "Fungsi f(10) : 23\n"
     ]
    }
   ],
   "source": [
    "def f(x):\n",
    "    return 2*x + 3\n",
    "\n",
    "y = f(10)\n",
    "print(\"Fungsi f(10) : \"+str(y))"
   ]
  },
  {
   "cell_type": "code",
   "execution_count": 36,
   "metadata": {},
   "outputs": [
    {
     "name": "stdout",
     "output_type": "stream",
     "text": [
      "Fungsi pangkat(2,8) : 256\n"
     ]
    }
   ],
   "source": [
    "def pangkat(x,y):\n",
    "    return x ** y\n",
    "\n",
    "y = pangkat(2,8)\n",
    "print(\"Fungsi pangkat(2,8) : \"+str(y))"
   ]
  },
  {
   "cell_type": "markdown",
   "metadata": {},
   "source": [
    "## 4. Modul"
   ]
  },
  {
   "cell_type": "code",
   "execution_count": 39,
   "metadata": {},
   "outputs": [
    {
     "name": "stdout",
     "output_type": "stream",
     "text": [
      "Lokasi Direktori:  /home/nunenuh/lombokpy/codelabs/lombokpy_cvdl\n"
     ]
    }
   ],
   "source": [
    "import os\n",
    "dirz = os.getcwd()\n",
    "print(\"Lokasi Direktori: \",dirz)"
   ]
  },
  {
   "cell_type": "code",
   "execution_count": 41,
   "metadata": {},
   "outputs": [
    {
     "name": "stdout",
     "output_type": "stream",
     "text": [
      "Log(10) :  2.302585092994046\n"
     ]
    }
   ],
   "source": [
    "import math\n",
    "mlog = math.log(10)\n",
    "print(\"Log(10) : \",str(mlog))"
   ]
  },
  {
   "cell_type": "code",
   "execution_count": null,
   "metadata": {},
   "outputs": [],
   "source": []
  }
 ],
 "metadata": {
  "kernelspec": {
   "display_name": "Python [conda env:dlearn]",
   "language": "python",
   "name": "conda-env-dlearn-py"
  },
  "language_info": {
   "codemirror_mode": {
    "name": "ipython",
    "version": 3
   },
   "file_extension": ".py",
   "mimetype": "text/x-python",
   "name": "python",
   "nbconvert_exporter": "python",
   "pygments_lexer": "ipython3",
   "version": "3.5.4"
  }
 },
 "nbformat": 4,
 "nbformat_minor": 2
}
